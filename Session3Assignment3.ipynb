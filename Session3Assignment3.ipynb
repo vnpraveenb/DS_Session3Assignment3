{
 "cells": [
  {
   "cell_type": "code",
   "execution_count": 5,
   "metadata": {},
   "outputs": [
    {
     "name": "stdout",
     "output_type": "stream",
     "text": [
      "Volkswagen\n"
     ]
    }
   ],
   "source": [
    "# Implement a function longestWord() that takes a list of words and returns the longest one.\n",
    "def longestword(wordlist):\n",
    "    tempword= wordlist[0]\n",
    "    for word in wordlist:\n",
    "        if(len(word)>len(tempword)):\n",
    "            tempword = word\n",
    "    return tempword\n",
    "\n",
    "somewordlist= [\"Rolls\", \"Royce\", \"Volkswagen\", \"Aston\", \"Martin\", \"Audi\", \"BMW\", \"Mercedes\", \"Porsche\", \"Bentley\"]\n",
    "\n",
    "print(longestword(somewordlist))\n"
   ]
  }
 ],
 "metadata": {
  "kernelspec": {
   "display_name": "Python 3",
   "language": "python",
   "name": "python3"
  },
  "language_info": {
   "codemirror_mode": {
    "name": "ipython",
    "version": 3
   },
   "file_extension": ".py",
   "mimetype": "text/x-python",
   "name": "python",
   "nbconvert_exporter": "python",
   "pygments_lexer": "ipython3",
   "version": "3.6.4"
  }
 },
 "nbformat": 4,
 "nbformat_minor": 2
}
